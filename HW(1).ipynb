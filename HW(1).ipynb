{
  "nbformat": 4,
  "nbformat_minor": 0,
  "metadata": {
    "colab": {
      "provenance": []
    },
    "kernelspec": {
      "name": "python3",
      "display_name": "Python 3"
    },
    "language_info": {
      "name": "python"
    }
  },
  "cells": [
    {
      "cell_type": "markdown",
      "source": [
        "1.\n"
      ],
      "metadata": {
        "id": "dRIpW9MP2Qnz"
      }
    },
    {
      "cell_type": "code",
      "source": [
        "import numpy as np"
      ],
      "metadata": {
        "id": "WOVYdJYS2PJl"
      },
      "execution_count": null,
      "outputs": []
    },
    {
      "cell_type": "code",
      "source": [
        "emp = np.empty(5)\n",
        "ful = np.full(5,2)\n",
        "emp,ful\n"
      ],
      "metadata": {
        "colab": {
          "base_uri": "https://localhost:8080/"
        },
        "id": "Mx8AUqvh2PLQ",
        "outputId": "fd316c4c-d6c6-47ef-b31a-aaab84e5a3b0"
      },
      "execution_count": null,
      "outputs": [
        {
          "output_type": "execute_result",
          "data": {
            "text/plain": [
              "(array([1.e-323, 1.e-323, 1.e-323, 1.e-323, 1.e-323]), array([2, 2, 2, 2, 2]))"
            ]
          },
          "metadata": {},
          "execution_count": 8
        }
      ]
    },
    {
      "cell_type": "code",
      "source": [
        "zer = np.zeros(5)\n",
        "zer"
      ],
      "metadata": {
        "colab": {
          "base_uri": "https://localhost:8080/"
        },
        "id": "r4msEArZ2PO_",
        "outputId": "3b488763-9736-4fc5-f846-085a481bd0c2"
      },
      "execution_count": null,
      "outputs": [
        {
          "output_type": "execute_result",
          "data": {
            "text/plain": [
              "array([0., 0., 0., 0., 0.])"
            ]
          },
          "metadata": {},
          "execution_count": 10
        }
      ]
    },
    {
      "cell_type": "code",
      "source": [
        "one = np.ones(5)\n",
        "one"
      ],
      "metadata": {
        "colab": {
          "base_uri": "https://localhost:8080/"
        },
        "id": "amI1W5TV2PQg",
        "outputId": "8eabd5ee-009e-4a2c-fe31-6ba164a3dbed"
      },
      "execution_count": null,
      "outputs": [
        {
          "output_type": "execute_result",
          "data": {
            "text/plain": [
              "array([1., 1., 1., 1., 1.])"
            ]
          },
          "metadata": {},
          "execution_count": 11
        }
      ]
    },
    {
      "cell_type": "code",
      "source": [
        "one_dim = np.array([1,2,3])\n",
        "two_dim = np.array([[4,5,6], [7,8,9]])\n",
        "combined_array = np.concatenate((np.expand_dims(one_dim, axis=0), two_dim), axis=0)\n",
        "combined_array"
      ],
      "metadata": {
        "colab": {
          "base_uri": "https://localhost:8080/",
          "height": 223
        },
        "id": "3Ny1AQVo2PVX",
        "outputId": "893b69f9-3784-45a2-92bc-2f894caa5217"
      },
      "execution_count": null,
      "outputs": [
        {
          "output_type": "error",
          "ename": "NameError",
          "evalue": "ignored",
          "traceback": [
            "\u001b[0;31m---------------------------------------------------------------------------\u001b[0m",
            "\u001b[0;31mNameError\u001b[0m                                 Traceback (most recent call last)",
            "\u001b[0;32m<ipython-input-1-09014c35ed17>\u001b[0m in \u001b[0;36m<cell line: 1>\u001b[0;34m()\u001b[0m\n\u001b[0;32m----> 1\u001b[0;31m \u001b[0mone_dim\u001b[0m \u001b[0;34m=\u001b[0m \u001b[0mnp\u001b[0m\u001b[0;34m.\u001b[0m\u001b[0marray\u001b[0m\u001b[0;34m(\u001b[0m\u001b[0;34m[\u001b[0m\u001b[0;36m1\u001b[0m\u001b[0;34m,\u001b[0m\u001b[0;36m2\u001b[0m\u001b[0;34m,\u001b[0m\u001b[0;36m3\u001b[0m\u001b[0;34m]\u001b[0m\u001b[0;34m)\u001b[0m\u001b[0;34m\u001b[0m\u001b[0;34m\u001b[0m\u001b[0m\n\u001b[0m\u001b[1;32m      2\u001b[0m \u001b[0mtwo_dim\u001b[0m \u001b[0;34m=\u001b[0m \u001b[0mnp\u001b[0m\u001b[0;34m.\u001b[0m\u001b[0marray\u001b[0m\u001b[0;34m(\u001b[0m\u001b[0;34m[\u001b[0m\u001b[0;34m[\u001b[0m\u001b[0;36m4\u001b[0m\u001b[0;34m,\u001b[0m\u001b[0;36m5\u001b[0m\u001b[0;34m,\u001b[0m\u001b[0;36m6\u001b[0m\u001b[0;34m]\u001b[0m\u001b[0;34m,\u001b[0m \u001b[0;34m[\u001b[0m\u001b[0;36m7\u001b[0m\u001b[0;34m,\u001b[0m\u001b[0;36m8\u001b[0m\u001b[0;34m,\u001b[0m\u001b[0;36m9\u001b[0m\u001b[0;34m]\u001b[0m\u001b[0;34m]\u001b[0m\u001b[0;34m)\u001b[0m\u001b[0;34m\u001b[0m\u001b[0;34m\u001b[0m\u001b[0m\n\u001b[1;32m      3\u001b[0m \u001b[0mcombined_array\u001b[0m \u001b[0;34m=\u001b[0m \u001b[0mnp\u001b[0m\u001b[0;34m.\u001b[0m\u001b[0mconcatenate\u001b[0m\u001b[0;34m(\u001b[0m\u001b[0;34m(\u001b[0m\u001b[0mnp\u001b[0m\u001b[0;34m.\u001b[0m\u001b[0mexpand_dims\u001b[0m\u001b[0;34m(\u001b[0m\u001b[0mone_dim\u001b[0m\u001b[0;34m,\u001b[0m \u001b[0maxis\u001b[0m\u001b[0;34m=\u001b[0m\u001b[0;36m0\u001b[0m\u001b[0;34m)\u001b[0m\u001b[0;34m,\u001b[0m \u001b[0mtwo_dim\u001b[0m\u001b[0;34m)\u001b[0m\u001b[0;34m,\u001b[0m \u001b[0maxis\u001b[0m\u001b[0;34m=\u001b[0m\u001b[0;36m0\u001b[0m\u001b[0;34m)\u001b[0m\u001b[0;34m\u001b[0m\u001b[0;34m\u001b[0m\u001b[0m\n\u001b[1;32m      4\u001b[0m \u001b[0mcombined_array\u001b[0m\u001b[0;34m\u001b[0m\u001b[0;34m\u001b[0m\u001b[0m\n",
            "\u001b[0;31mNameError\u001b[0m: name 'np' is not defined"
          ]
        }
      ]
    },
    {
      "cell_type": "code",
      "source": [
        "rng = np.random.default_rng(seed = 123)\n",
        "arr = rng.normal(0,1,100).round(1) -  rng.normal(0,1,100).round(1)\n",
        "arr\n",
        "sum = 0\n",
        "for i in arr:\n",
        "  if i != 0:\n",
        "    sum +=1\n",
        "sum"
      ],
      "metadata": {
        "colab": {
          "base_uri": "https://localhost:8080/"
        },
        "id": "Otu3nUy_2PWi",
        "outputId": "2085ca55-7f95-448f-c477-2df4ef70b9ec"
      },
      "execution_count": null,
      "outputs": [
        {
          "output_type": "execute_result",
          "data": {
            "text/plain": [
              "97"
            ]
          },
          "metadata": {},
          "execution_count": 3
        }
      ]
    },
    {
      "cell_type": "markdown",
      "source": [
        "2."
      ],
      "metadata": {
        "id": "yAeh5evI6PPF"
      }
    },
    {
      "cell_type": "code",
      "source": [
        "mat = rng.standard_normal(30).reshape(5,-1)\n",
        "arr = mat.flatten()\n",
        "l = []\n",
        "for i in range(len(arr)):\n",
        "  sum = 0\n",
        "  for j in range(i,len(arr)):\n",
        "    if arr[i] >= arr[j]:\n",
        "      sum +=1\n",
        "  if sum == len(arr) - (i):\n",
        "     print(arr[i])\n",
        "     break"
      ],
      "metadata": {
        "id": "jY4CN4fI2PbX",
        "colab": {
          "base_uri": "https://localhost:8080/"
        },
        "outputId": "9a87408e-b244-4449-e163-2e144dafaf3a"
      },
      "execution_count": null,
      "outputs": [
        {
          "output_type": "stream",
          "name": "stdout",
          "text": [
            "2.0276390593976137\n"
          ]
        }
      ]
    },
    {
      "cell_type": "code",
      "source": [
        "matrix = np.array(mat)\n",
        "print('number_of_row : '  , matrix.shape[0]), print('number_of_col : ',matrix.shape[1] )"
      ],
      "metadata": {
        "id": "16LVHWhOGdbT",
        "colab": {
          "base_uri": "https://localhost:8080/"
        },
        "outputId": "7006b8ef-12f1-4256-dfce-740ee3f9a133"
      },
      "execution_count": null,
      "outputs": [
        {
          "output_type": "stream",
          "name": "stdout",
          "text": [
            "number_of_row :  5\n",
            "number_of_col :  6\n"
          ]
        },
        {
          "output_type": "execute_result",
          "data": {
            "text/plain": [
              "(None, None)"
            ]
          },
          "metadata": {},
          "execution_count": 27
        }
      ]
    },
    {
      "cell_type": "code",
      "source": [
        "mat1 = rng.standard_normal(20).reshape(5,-1)\n",
        "mat2 = rng.uniform(0,1,20).reshape(5,-1)\n",
        "print('Adding two matrices : ', mat1+mat2), print('Substracting two matrices : ', mat1-mat2)"
      ],
      "metadata": {
        "colab": {
          "base_uri": "https://localhost:8080/"
        },
        "id": "ACmzp5_c5n9v",
        "outputId": "b5e834f0-91ef-4105-9630-f6b05b04fcdf"
      },
      "execution_count": null,
      "outputs": [
        {
          "output_type": "stream",
          "name": "stdout",
          "text": [
            "Adding two matrices :  [[-0.14394454  0.18713674  1.4830047   1.20024526]\n",
            " [ 0.68903722  1.96066658  0.61962463  0.94089708]\n",
            " [ 1.19306262  0.41454453 -0.46543289  2.34062967]\n",
            " [ 1.30277721 -0.90318196 -0.96088448 -1.02846965]\n",
            " [-1.0588422   1.16405049  2.20935962  0.77202684]]\n",
            "Substracting two matrices :  [[-0.36243451 -1.22830344  0.43781132 -0.01109568]\n",
            " [-0.31460562  0.3411849  -0.55016931 -0.66352862]\n",
            " [-0.1224562  -0.95536182 -1.93859415  1.1842545 ]\n",
            " [ 0.5832552  -1.6957083  -1.00553662 -1.10282607]\n",
            " [-1.9884834  -0.43989594  0.7949068   0.00224783]]\n"
          ]
        },
        {
          "output_type": "execute_result",
          "data": {
            "text/plain": [
              "(None, None)"
            ]
          },
          "metadata": {},
          "execution_count": 45
        }
      ]
    },
    {
      "cell_type": "code",
      "source": [
        "print('Matrix multiplication :', np.matmul(mat1, np.transpose(mat2)))"
      ],
      "metadata": {
        "colab": {
          "base_uri": "https://localhost:8080/"
        },
        "id": "kjD7vyuF5oCu",
        "outputId": "e0c3ce48-32d5-4e41-f7a4-94c4ee1daf0e"
      },
      "execution_count": null,
      "outputs": [
        {
          "output_type": "stream",
          "name": "stdout",
          "text": [
            "Matrix multiplication : [[ 0.46593546  0.49012174  0.52808069 -0.25382837  0.37288989]\n",
            " [ 0.93713115  1.15746685  1.01723842  0.52935379  1.0879718 ]\n",
            " [ 0.30639639  0.76046531  0.30052572  0.12411643 -0.13979078]\n",
            " [-1.97587765 -2.00894134 -1.61013951 -0.2372319  -1.70929598]\n",
            " [ 1.10928434  0.71774183  0.57608267 -0.35674676  0.7934998 ]]\n"
          ]
        }
      ]
    },
    {
      "cell_type": "code",
      "source": [
        "my_array = [[1, 2, 3], [4, 5, 6]]\n",
        "# Add a row\n",
        "new_row = [7, 8, 9]\n",
        "my_array = my_array + [new_row]\n",
        "# Add a column\n",
        "new_column = [10, 11]\n",
        "my_array = [row + [column] for row in my_array for column in [new_column[my_array.index(row)]]]\n"
      ],
      "metadata": {
        "colab": {
          "base_uri": "https://localhost:8080/"
        },
        "id": "PALpMIee5oRa",
        "outputId": "40034d4c-54b0-4d2f-e31d-36686ae3e4af"
      },
      "execution_count": null,
      "outputs": [
        {
          "output_type": "execute_result",
          "data": {
            "text/plain": [
              "[array([-0.25318952, -0.52058335,  0.96040801,  0.59457479]),\n",
              " array([0.1872158 , 1.15092574, 0.03472766, 0.13868423]),\n",
              " array([ 0.53530321, -0.27040865, -1.20201352,  1.76244208]),\n",
              " array([ 0.9430162 , -1.29944513, -0.98321055, -1.06564786]),\n",
              " array([-1.5236628 ,  0.36207728,  1.50213321,  0.38713734]),\n",
              " [1, 2, 3, 4, 5, 6]]"
            ]
          },
          "metadata": {},
          "execution_count": 49
        }
      ]
    },
    {
      "cell_type": "code",
      "source": [
        "mat3 = rng.standard_normal(36).reshape(6,-1)\n",
        "eig = np.linalg.eig(mat3)\n",
        "eig"
      ],
      "metadata": {
        "colab": {
          "base_uri": "https://localhost:8080/"
        },
        "id": "Mv4W9rbR5oWC",
        "outputId": "425530db-c273-4a1d-b305-ca6821bcf6f2"
      },
      "execution_count": null,
      "outputs": [
        {
          "output_type": "execute_result",
          "data": {
            "text/plain": [
              "(array([ 0.76924405+2.56050752j,  0.76924405-2.56050752j,\n",
              "        -0.50993427+1.26873789j, -0.50993427-1.26873789j,\n",
              "        -0.93279919+0.j        ,  0.28188614+0.j        ]),\n",
              " array([[-0.29802706+0.34621049j, -0.29802706-0.34621049j,\n",
              "         -0.1618531 +0.41157817j, -0.1618531 -0.41157817j,\n",
              "          0.46742881+0.j        ,  0.41202303+0.j        ],\n",
              "        [ 0.12676488+0.49597469j,  0.12676488-0.49597469j,\n",
              "          0.14467878+0.15997753j,  0.14467878-0.15997753j,\n",
              "         -0.42932741+0.j        , -0.47967606+0.j        ],\n",
              "        [ 0.13761843+0.09587995j,  0.13761843-0.09587995j,\n",
              "          0.26126213-0.00854041j,  0.26126213+0.00854041j,\n",
              "          0.25124085+0.j        ,  0.29779451+0.j        ],\n",
              "        [-0.4333574 -0.03293752j, -0.4333574 +0.03293752j,\n",
              "         -0.52617025+0.j        , -0.52617025-0.j        ,\n",
              "          0.41955624+0.j        ,  0.69951854+0.j        ],\n",
              "        [ 0.02393338+0.17883478j,  0.02393338-0.17883478j,\n",
              "          0.44463828-0.15752501j,  0.44463828+0.15752501j,\n",
              "          0.21960951+0.j        , -0.117982  +0.j        ],\n",
              "        [-0.52885531+0.j        , -0.52885531-0.j        ,\n",
              "         -0.38356645+0.20749867j, -0.38356645-0.20749867j,\n",
              "         -0.55660627+0.j        , -0.09066639+0.j        ]]))"
            ]
          },
          "metadata": {},
          "execution_count": 4
        }
      ]
    },
    {
      "cell_type": "code",
      "source": [
        "arr2 = np.array([1,2,3,2,1,4,5,3,2,1])\n",
        "frq = {}\n",
        "\n",
        "for i in arr2:\n",
        "  if i in frq:\n",
        "    frq[i] += 1\n",
        "  else:\n",
        "    frq[i] = 1\n",
        "frq"
      ],
      "metadata": {
        "colab": {
          "base_uri": "https://localhost:8080/"
        },
        "id": "2VtxKKO-_jlf",
        "outputId": "395d2cb4-1810-40e7-bb3f-b1f61d0599c4"
      },
      "execution_count": null,
      "outputs": [
        {
          "output_type": "execute_result",
          "data": {
            "text/plain": [
              "{1: 3, 2: 3, 3: 2, 4: 1, 5: 1}"
            ]
          },
          "metadata": {},
          "execution_count": 53
        }
      ]
    },
    {
      "cell_type": "code",
      "source": [
        "inver = np.linalg.inv(mat3)\n",
        "inver"
      ],
      "metadata": {
        "colab": {
          "base_uri": "https://localhost:8080/"
        },
        "id": "BNOXIEDv_jru",
        "outputId": "a887b556-7d87-4dd8-993d-db6ae4e27fa7"
      },
      "execution_count": null,
      "outputs": [
        {
          "output_type": "execute_result",
          "data": {
            "text/plain": [
              "array([[-0.22541853,  0.10794612, -0.47813564,  0.75157806, -0.5514673 ,\n",
              "         0.10367537],\n",
              "       [ 0.3954277 ,  0.33863852, -0.90280366,  1.84661469, -0.77351477,\n",
              "         0.38327456],\n",
              "       [-0.04538164,  0.55872607, -1.12048751,  0.50035316, -0.62557546,\n",
              "         0.38969106],\n",
              "       [ 0.20693477,  0.10411849,  0.07739711, -0.20625745,  0.13593154,\n",
              "        -0.50410477],\n",
              "       [ 0.01927898,  0.05539166, -0.16043493,  0.64260525, -0.55634685,\n",
              "         0.35712427],\n",
              "       [ 0.17788255, -0.45334949,  0.10619693,  0.14386306,  0.09449067,\n",
              "        -0.21872264]])"
            ]
          },
          "metadata": {},
          "execution_count": 56
        }
      ]
    },
    {
      "cell_type": "code",
      "source": [
        "det = np.linalg.det(mat3)\n",
        "det"
      ],
      "metadata": {
        "colab": {
          "base_uri": "https://localhost:8080/"
        },
        "id": "2KY_RM7V_jvt",
        "outputId": "80a97af4-3f23-45a9-bd88-19d11fb92d4c"
      },
      "execution_count": null,
      "outputs": [
        {
          "output_type": "execute_result",
          "data": {
            "text/plain": [
              "-22.60462811644553"
            ]
          },
          "metadata": {},
          "execution_count": 60
        }
      ]
    },
    {
      "cell_type": "code",
      "source": [
        "cor_matrix = np.corrcoef(mat3, rowvar=False)\n",
        "print(cor_matrix)"
      ],
      "metadata": {
        "id": "UsM9Dkdc_j1i",
        "colab": {
          "base_uri": "https://localhost:8080/"
        },
        "outputId": "3a4fd1ae-0a96-445a-b421-d14d712e565e"
      },
      "execution_count": null,
      "outputs": [
        {
          "output_type": "stream",
          "name": "stdout",
          "text": [
            "[[ 1.          0.45551255 -0.37198246 -0.14614977 -0.10164007 -0.61892567]\n",
            " [ 0.45551255  1.          0.12855719  0.55287895 -0.09100678 -0.13729645]\n",
            " [-0.37198246  0.12855719  1.         -0.31243699 -0.75602742  0.55580081]\n",
            " [-0.14614977  0.55287895 -0.31243699  1.          0.64753831  0.06795382]\n",
            " [-0.10164007 -0.09100678 -0.75602742  0.64753831  1.         -0.00851694]\n",
            " [-0.61892567 -0.13729645  0.55580081  0.06795382 -0.00851694  1.        ]]\n"
          ]
        }
      ]
    },
    {
      "cell_type": "markdown",
      "source": [
        "3."
      ],
      "metadata": {
        "id": "f7eOkYG_nm2l"
      }
    },
    {
      "cell_type": "code",
      "source": [
        "arr5 = np.array([1,2,3,4,3,2,1,3,2,5,6,3,2])\n",
        "k = 10\n",
        "condition = 3\n",
        "for i in range(len(arr5)):\n",
        "  if arr5[i] > condition:\n",
        "    arr5[i] = k\n",
        "arr5\n"
      ],
      "metadata": {
        "id": "vFfoh02L_j3V",
        "colab": {
          "base_uri": "https://localhost:8080/"
        },
        "outputId": "80f06538-106c-4431-8045-ab9356e44a1c"
      },
      "execution_count": null,
      "outputs": [
        {
          "output_type": "execute_result",
          "data": {
            "text/plain": [
              "array([ 1,  2,  3, 10,  3,  2,  1,  3,  2, 10, 10,  3,  2])"
            ]
          },
          "metadata": {},
          "execution_count": 20
        }
      ]
    },
    {
      "cell_type": "code",
      "source": [
        "for i in arr5:\n",
        "  if i <= condition:\n",
        "    print(i)\n"
      ],
      "metadata": {
        "id": "AgXhXV8S_j7K",
        "colab": {
          "base_uri": "https://localhost:8080/"
        },
        "outputId": "3432ccf4-525c-43c5-86b1-a925756d358a"
      },
      "execution_count": null,
      "outputs": [
        {
          "output_type": "stream",
          "name": "stdout",
          "text": [
            "1\n",
            "2\n",
            "3\n",
            "3\n",
            "2\n",
            "1\n",
            "3\n",
            "2\n",
            "3\n",
            "2\n"
          ]
        }
      ]
    },
    {
      "cell_type": "code",
      "source": [
        "arr\n",
        "for i in range(len(arr)):\n",
        "  if arr[i] < 0:\n",
        "    arr[i] = 0\n",
        "print(arr)"
      ],
      "metadata": {
        "id": "mcs9tFgQ_j87",
        "colab": {
          "base_uri": "https://localhost:8080/"
        },
        "outputId": "2fe5eb31-3c29-4121-c755-1a1e25ea1084"
      },
      "execution_count": null,
      "outputs": [
        {
          "output_type": "stream",
          "name": "stdout",
          "text": [
            "[0.  0.  1.6 1.6 1.2 0.2 0.  0.  0.  0.  0.  0.2 1.6 2.  1.6 0.  2.3 0.\n",
            " 0.  0.  0.  1.1 0.7 0.8 1.1 0.  1.2 0.8 0.  0.3 0.1 0.  1.9 0.  0.  0.1\n",
            " 0.2 0.6 0.  0.  1.1 0.  1.3 0.4 0.  0.  0.  0.  1.9 0.  0.  0.6 1.  0.\n",
            " 0.4 0.  0.  0.  0.  0.9 1.4 0.  0.5 0.  0.  0.6 0.2 0.  1.8 0.  0.  1.1\n",
            " 0.6 1.9 0.7 0.  0.  0.  0.3 0.  0.  0.7 1.4 0.6 1.1 0.5 0.  0.  0.7 0.\n",
            " 0.7 0.  0.  0.8 1.2 0.  0.  0.  0.3 2.6]\n"
          ]
        }
      ]
    },
    {
      "cell_type": "code",
      "source": [
        "arr6 = np.array([[1, 2, np.nan],\n",
        "                  [4, np.nan, 6],\n",
        "                  [np.nan, 8, 9]])\n",
        "\n",
        "col_mn = np.nanmean(arr6, axis=0)\n",
        "\n",
        "nan_mask = np.isnan(arr6)\n",
        "arr6[nan_mask] = col_mn\n",
        "arr6"
      ],
      "metadata": {
        "id": "O1BZ5LOA_kBe",
        "colab": {
          "base_uri": "https://localhost:8080/"
        },
        "outputId": "a414c0de-466a-4b1e-ec96-c4daa3d6928c"
      },
      "execution_count": null,
      "outputs": [
        {
          "output_type": "execute_result",
          "data": {
            "text/plain": [
              "array([[1. , 2. , 2.5],\n",
              "       [4. , 5. , 6. ],\n",
              "       [7.5, 8. , 9. ]])"
            ]
          },
          "metadata": {},
          "execution_count": 29
        }
      ]
    },
    {
      "cell_type": "code",
      "source": [
        "position = 5\n",
        "arr[position]"
      ],
      "metadata": {
        "id": "TCmfyJUI_kHk",
        "colab": {
          "base_uri": "https://localhost:8080/"
        },
        "outputId": "6a45e450-98a4-4f7a-83a8-c0e443c0a693"
      },
      "execution_count": null,
      "outputs": [
        {
          "output_type": "execute_result",
          "data": {
            "text/plain": [
              "0.19999999999999996"
            ]
          },
          "metadata": {},
          "execution_count": 30
        }
      ]
    },
    {
      "cell_type": "code",
      "source": [
        "arr7 = np.array([1,2,3,4,0,5,4,0,6,0])\n",
        "for i in range(len(arr7)):\n",
        "  if arr7[i] == 0:\n",
        "    print(i)"
      ],
      "metadata": {
        "id": "HPKoVneN_kJn",
        "colab": {
          "base_uri": "https://localhost:8080/"
        },
        "outputId": "d585d0bd-deae-47c3-ad97-50e6736b62da"
      },
      "execution_count": null,
      "outputs": [
        {
          "output_type": "stream",
          "name": "stdout",
          "text": [
            "4\n",
            "7\n",
            "9\n"
          ]
        }
      ]
    },
    {
      "cell_type": "code",
      "source": [
        "arr8 = np.array([[1, 2, 3],\n",
        "                  [4, 5, 6],\n",
        "                  [7, 8, 9]])\n",
        "k = 1\n",
        "\n",
        "print('k+1 th row : ' , arr8[[k]])"
      ],
      "metadata": {
        "id": "b0S3YGN1Gdm5",
        "colab": {
          "base_uri": "https://localhost:8080/"
        },
        "outputId": "ddd49398-5df1-49f8-d7d5-7cff042d5642"
      },
      "execution_count": null,
      "outputs": [
        {
          "output_type": "stream",
          "name": "stdout",
          "text": [
            "k+1 th row :  [[4 5 6]]\n"
          ]
        }
      ]
    },
    {
      "cell_type": "code",
      "source": [
        "arr6 = np.array([[1, 2, np.nan],\n",
        "                  [4, np.nan, 6],\n",
        "                  [np.nan, 8, 9]])\n",
        "\n",
        "non_numeric_col = np.isnan(arr6).any(axis=0)\n",
        "numeric_array = arr6[:, ~non_numeric_col]\n",
        "\n",
        "print(numeric_array)\n"
      ],
      "metadata": {
        "colab": {
          "base_uri": "https://localhost:8080/"
        },
        "id": "AGmcsJ9BrXLb",
        "outputId": "2326d6ab-3e4f-43f1-908f-05d1705f687e"
      },
      "execution_count": null,
      "outputs": [
        {
          "output_type": "stream",
          "name": "stdout",
          "text": [
            "[]\n"
          ]
        }
      ]
    },
    {
      "cell_type": "code",
      "source": [
        "arr8\n",
        "x = 4\n",
        "row_numbers = np.where(np.any(arr8 > x, axis=1))[0]\n",
        "print(row_numbers)\n"
      ],
      "metadata": {
        "colab": {
          "base_uri": "https://localhost:8080/"
        },
        "id": "IHKB0l5krXM7",
        "outputId": "f254a371-cb55-473f-e402-c81583865952"
      },
      "execution_count": null,
      "outputs": [
        {
          "output_type": "stream",
          "name": "stdout",
          "text": [
            "[1 2]\n"
          ]
        }
      ]
    },
    {
      "cell_type": "markdown",
      "source": [
        "4."
      ],
      "metadata": {
        "id": "MCQKd8DJs4uz"
      }
    },
    {
      "cell_type": "code",
      "source": [
        "arr9 = np.array([9, 2, 7, 4, 1, 5, 8, 3, 6])\n",
        "sorted_indices = np.argsort(arr9)\n",
        "print(sorted_indices)"
      ],
      "metadata": {
        "colab": {
          "base_uri": "https://localhost:8080/"
        },
        "id": "2bMlpJQZrXQl",
        "outputId": "c502405a-0ead-41a0-f0f6-0e7a13b8305f"
      },
      "execution_count": null,
      "outputs": [
        {
          "output_type": "stream",
          "name": "stdout",
          "text": [
            "[4 1 7 3 5 8 2 6 0]\n"
          ]
        }
      ]
    },
    {
      "cell_type": "code",
      "source": [
        "k = 4\n",
        "smallest_values = np.partition(arr9, k)[:k]\n",
        "print(smallest_values)"
      ],
      "metadata": {
        "colab": {
          "base_uri": "https://localhost:8080/"
        },
        "id": "pRo63TgMrXSX",
        "outputId": "2883b21a-3ab1-4a88-b354-ab8872b5c9a0"
      },
      "execution_count": null,
      "outputs": [
        {
          "output_type": "stream",
          "name": "stdout",
          "text": [
            "[1 2 3 4]\n"
          ]
        }
      ]
    },
    {
      "cell_type": "code",
      "source": [
        "n = 3\n",
        "largest_values = np.partition(arr9, -n)[-n:]\n",
        "print(largest_values)"
      ],
      "metadata": {
        "colab": {
          "base_uri": "https://localhost:8080/"
        },
        "id": "HcLOloYrrXWg",
        "outputId": "97cdcf30-fd47-48ef-c732-c0171c8c898b"
      },
      "execution_count": null,
      "outputs": [
        {
          "output_type": "stream",
          "name": "stdout",
          "text": [
            "[7 8 9]\n"
          ]
        }
      ]
    },
    {
      "cell_type": "code",
      "source": [
        "sorted_values = np.sort(arr9)\n",
        "sorted_values"
      ],
      "metadata": {
        "colab": {
          "base_uri": "https://localhost:8080/"
        },
        "id": "-Va_DZ38rXYU",
        "outputId": "ff63ed28-f3ab-45c2-90ec-6f3ca4154f86"
      },
      "execution_count": null,
      "outputs": [
        {
          "output_type": "execute_result",
          "data": {
            "text/plain": [
              "array([1, 2, 3, 4, 5, 6, 7, 8, 9])"
            ]
          },
          "metadata": {},
          "execution_count": 46
        }
      ]
    },
    {
      "cell_type": "code",
      "source": [
        "non_integer_values = arr[~np.isin(arr, arr.astype(int))]\n",
        "\n",
        "print(non_integer_values)\n"
      ],
      "metadata": {
        "colab": {
          "base_uri": "https://localhost:8080/"
        },
        "id": "cv_xUfYwrXeV",
        "outputId": "6484c585-6d63-43b5-e25b-191401759b01"
      },
      "execution_count": null,
      "outputs": [
        {
          "output_type": "stream",
          "name": "stdout",
          "text": [
            "[1.6 1.6 1.2 0.2 0.2 1.6 1.6 2.3 1.1 0.7 0.8 1.1 1.2 0.8 0.3 0.1 1.9 0.1\n",
            " 0.2 0.6 1.1 1.3 0.4 1.9 0.6 0.4 0.9 1.4 0.5 0.6 0.2 1.8 1.1 0.6 1.9 0.7\n",
            " 0.3 0.7 1.4 0.6 1.1 0.5 0.7 0.7 0.8 1.2 0.3 2.6]\n"
          ]
        }
      ]
    },
    {
      "cell_type": "code",
      "source": [
        "sorted_indices = np.argsort(arr)\n",
        "print(sorted_indices)"
      ],
      "metadata": {
        "colab": {
          "base_uri": "https://localhost:8080/"
        },
        "id": "1Ivmct5WvnS9",
        "outputId": "4fee122c-b63a-4318-d1d1-ee93365a6d75"
      },
      "execution_count": null,
      "outputs": [
        {
          "output_type": "stream",
          "name": "stdout",
          "text": [
            "[ 0 39 41 44 45 46 47 50 53 55 56 57 58 61 63 64 67 69 97 96 95 92 91 89\n",
            " 38 87 80 79 77 76 75 70 86 34 49  1  6  7  8 31  9 10 15 33 28 17 18 19\n",
            " 20 25 30 35  5 11 66 36 29 78 98 43 54 62 85 65 72 51 83 37 88 90 74 22\n",
            " 81 93 23 27 59 52 24 21 71 84 40 94  4 26 42 60 82  3 12 14  2 68 73 48\n",
            " 32 13 16 99]\n"
          ]
        }
      ]
    },
    {
      "cell_type": "markdown",
      "source": [
        "5."
      ],
      "metadata": {
        "id": "tVcZ82D1wkNu"
      }
    },
    {
      "cell_type": "code",
      "source": [
        "rngg = np.random.default_rng(seed =123)\n",
        "rn_arr = rngg.uniform(0,1,10)\n",
        "rn_arr"
      ],
      "metadata": {
        "colab": {
          "base_uri": "https://localhost:8080/"
        },
        "id": "nUM3KcCewjOI",
        "outputId": "683ef36c-eda6-42ab-fd61-48e7deb75d20"
      },
      "execution_count": null,
      "outputs": [
        {
          "output_type": "execute_result",
          "data": {
            "text/plain": [
              "array([0.68235186, 0.05382102, 0.22035987, 0.18437181, 0.1759059 ,\n",
              "       0.81209451, 0.923345  , 0.2765744 , 0.81975456, 0.88989269])"
            ]
          },
          "metadata": {},
          "execution_count": 50
        }
      ]
    },
    {
      "cell_type": "code",
      "source": [
        "rn_mat = rngg.uniform(0,1,20).reshape(5,-1)\n",
        "rn_mat"
      ],
      "metadata": {
        "colab": {
          "base_uri": "https://localhost:8080/"
        },
        "id": "NfJy9uS4vnU0",
        "outputId": "92801810-d048-4d44-aaaf-740d10eb2570"
      },
      "execution_count": null,
      "outputs": [
        {
          "output_type": "execute_result",
          "data": {
            "text/plain": [
              "array([[0.51297046, 0.2449646 , 0.8242416 , 0.21376296],\n",
              "       [0.74146705, 0.6299402 , 0.92740726, 0.23190819],\n",
              "       [0.79912513, 0.51816504, 0.23155562, 0.16590399],\n",
              "       [0.49778897, 0.58272464, 0.18433799, 0.01489492],\n",
              "       [0.47113323, 0.72824333, 0.91860049, 0.62553401]])"
            ]
          },
          "metadata": {},
          "execution_count": 51
        }
      ]
    },
    {
      "cell_type": "code",
      "source": [
        "rn_mat1 = rngg.normal(0,1,20).reshape(5,-1)\n",
        "rn_mat1"
      ],
      "metadata": {
        "colab": {
          "base_uri": "https://localhost:8080/"
        },
        "id": "nGEck8NCvnYy",
        "outputId": "339d8cd8-0947-4684-b2f6-7957cc16b106"
      },
      "execution_count": null,
      "outputs": [
        {
          "output_type": "execute_result",
          "data": {
            "text/plain": [
              "array([[-0.36176687, -1.2302322 ,  1.22622929, -2.17204389],\n",
              "       [-0.37014735,  0.16438007,  0.85988118,  1.76166124],\n",
              "       [ 0.99332378, -0.29152143,  0.72812756, -1.26160032],\n",
              "       [ 1.42993853, -0.15647532, -0.67375915, -0.6390601 ],\n",
              "       [-0.06136133, -0.39278492,  2.28990995, -0.71818115]])"
            ]
          },
          "metadata": {},
          "execution_count": 52
        }
      ]
    },
    {
      "cell_type": "markdown",
      "source": [
        "6."
      ],
      "metadata": {
        "id": "-xN4C5EZxoeq"
      }
    },
    {
      "cell_type": "code",
      "source": [
        "import pandas as pd"
      ],
      "metadata": {
        "id": "TQ7ESrXWvnbB"
      },
      "execution_count": null,
      "outputs": []
    },
    {
      "cell_type": "code",
      "source": [
        "dat = [[1, 2, 3],\n",
        "        [4, 5, 6]]\n",
        "df = pd.DataFrame(dat)"
      ],
      "metadata": {
        "id": "lkt8xU9kvnfB"
      },
      "execution_count": null,
      "outputs": []
    },
    {
      "cell_type": "code",
      "source": [
        "dat2 = {'C1': [1, 2, 3],\n",
        "        'C2': np.array([4, 5, 6]),\n",
        "        'C3': [7.0, 8.0, 9.0]}\n",
        "\n",
        "df2 = pd.DataFrame(dat2)"
      ],
      "metadata": {
        "id": "xn2iCtfevnhG"
      },
      "execution_count": null,
      "outputs": []
    },
    {
      "cell_type": "code",
      "source": [
        "lst_of_lst = [[1, 2, 3],\n",
        "        [4, 5, 6]]\n",
        "df = pd.DataFrame(lst_of_lst)"
      ],
      "metadata": {
        "id": "91vYwpjIvnkz"
      },
      "execution_count": null,
      "outputs": []
    },
    {
      "cell_type": "code",
      "source": [
        "tup = [(1, 2, 3),\n",
        "        (4, 5, 6),\n",
        "        (7, 8, 9)]\n",
        "df = pd.DataFrame(tup)"
      ],
      "metadata": {
        "id": "woFhbo8kvnnJ"
      },
      "execution_count": null,
      "outputs": []
    },
    {
      "cell_type": "code",
      "source": [
        "dat3 = [\n",
        "    {'C1': 1, 'C2': 'A', 'C3': True},\n",
        "    {'C1': 2, 'C2': 'B', 'C3': False},\n",
        "    {'C1': 3, 'C2': 'C', 'C3': True}\n",
        "]\n",
        "\n",
        "df3 = pd.DataFrame(dat3)"
      ],
      "metadata": {
        "id": "OsxKXekqvnrW"
      },
      "execution_count": null,
      "outputs": []
    },
    {
      "cell_type": "code",
      "source": [
        "series1 = pd.Series([1, 2, 3])\n",
        "series2 = pd.Series(['A', 'B', 'C'])\n",
        "series3 = pd.Series([True, False, True])\n",
        "df = pd.concat([series1, series2, series3], axis=1)\n",
        "df3 = pd.DataFrame(df)\n"
      ],
      "metadata": {
        "id": "J0eeLJ3Lvnts"
      },
      "execution_count": null,
      "outputs": []
    },
    {
      "cell_type": "code",
      "source": [
        "new_index = ['Z', 'Y', 'X', 'W']\n",
        "reindexed_df = df3.reindex(new_index)"
      ],
      "metadata": {
        "id": "skA5dEb1zVqI"
      },
      "execution_count": null,
      "outputs": []
    },
    {
      "cell_type": "code",
      "source": [
        "reset_df = reindexed_df.reset_index()"
      ],
      "metadata": {
        "id": "oEOkqfvbzVrc"
      },
      "execution_count": null,
      "outputs": []
    },
    {
      "cell_type": "code",
      "source": [
        "dat4 = {'A': [1, 2, 3],\n",
        "        'B': [4, 5, 6],\n",
        "        'C': [7, 8, 9]}\n",
        "\n",
        "df4 = pd.DataFrame(dat4, index=['X', 'Y', 'Z'])\n",
        "df4 = df4.rename(columns={'A': 'Column1', 'B': 'Column2', 'C': 'Column3'})\n",
        "df4 = df4.rename(index={'X': 'Row1', 'Y': 'Row2', 'Z': 'Row3'})"
      ],
      "metadata": {
        "id": "27xpc5VIzVvx"
      },
      "execution_count": null,
      "outputs": []
    },
    {
      "cell_type": "markdown",
      "source": [
        "7."
      ],
      "metadata": {
        "id": "A4x8t_xWBTwr"
      }
    },
    {
      "cell_type": "code",
      "source": [
        "import numpy as np\n",
        "import pandas as pd"
      ],
      "metadata": {
        "id": "NDZi866AzVzF"
      },
      "execution_count": null,
      "outputs": []
    },
    {
      "cell_type": "code",
      "source": [
        "data = {'Name': ['John', 'Jane', 'Mike'],\n",
        "        'Age': [25, 30, 35],\n",
        "        'City': ['New York', 'London', 'Paris']}\n",
        "df = pd.DataFrame(data)\n",
        "for i in range(len(df)):\n",
        "    name = df.loc[i, 'Name']\n",
        "    age = df.loc[i, 'Age']\n",
        "    city = df.loc[i, 'City']\n",
        "    print(name,age,city)\n"
      ],
      "metadata": {
        "id": "FyhvuD7izV1t",
        "colab": {
          "base_uri": "https://localhost:8080/"
        },
        "outputId": "814511db-4e75-404c-9f56-d8daff7c3b5a"
      },
      "execution_count": null,
      "outputs": [
        {
          "output_type": "stream",
          "name": "stdout",
          "text": [
            "John 25 New York\n",
            "Jane 30 London\n",
            "Mike 35 Paris\n"
          ]
        }
      ]
    },
    {
      "cell_type": "code",
      "source": [
        "for index, row in df.iterrows():\n",
        "    name = row['Name']\n",
        "    age = row['Age']\n",
        "    city = row['City']\n",
        "    print(name, age, city)\n"
      ],
      "metadata": {
        "id": "H8Y6sOZ4zV8Z",
        "colab": {
          "base_uri": "https://localhost:8080/"
        },
        "outputId": "de9eef79-a3bc-44f7-d516-9a45d3473173"
      },
      "execution_count": null,
      "outputs": [
        {
          "output_type": "stream",
          "name": "stdout",
          "text": [
            "John 25 New York\n",
            "Jane 30 London\n",
            "Mike 35 Paris\n"
          ]
        }
      ]
    },
    {
      "cell_type": "code",
      "source": [
        "condition = df['Age'] > 30\n",
        "filtered_df = df[condition]"
      ],
      "metadata": {
        "id": "4Ct1Pi15vnxn"
      },
      "execution_count": null,
      "outputs": []
    },
    {
      "cell_type": "code",
      "source": [
        "#kth row\n",
        "k = 2\n",
        "df.iloc[k], df.iat[2,1]\n"
      ],
      "metadata": {
        "id": "Jv5Ig2Nlvn0D",
        "colab": {
          "base_uri": "https://localhost:8080/"
        },
        "outputId": "b8ff3a17-125a-4fba-be21-f79cc755463a"
      },
      "execution_count": null,
      "outputs": [
        {
          "output_type": "execute_result",
          "data": {
            "text/plain": [
              "(Name     Mike\n",
              " Age        35\n",
              " City    Paris\n",
              " Name: 2, dtype: object,\n",
              " 35)"
            ]
          },
          "metadata": {},
          "execution_count": 19
        }
      ]
    },
    {
      "cell_type": "code",
      "source": [
        "df['Name'][0:3]"
      ],
      "metadata": {
        "colab": {
          "base_uri": "https://localhost:8080/"
        },
        "id": "gdJT1XVeEIiQ",
        "outputId": "e67b03f3-a680-4f6e-a863-e1339f886867"
      },
      "execution_count": null,
      "outputs": [
        {
          "output_type": "execute_result",
          "data": {
            "text/plain": [
              "0    John\n",
              "1    Jane\n",
              "2    Mike\n",
              "Name: Name, dtype: object"
            ]
          },
          "metadata": {},
          "execution_count": 20
        }
      ]
    },
    {
      "cell_type": "code",
      "source": [
        "condition = df['Age'] > 30\n",
        "df.drop(df[condition].index)"
      ],
      "metadata": {
        "colab": {
          "base_uri": "https://localhost:8080/",
          "height": 112
        },
        "id": "0Bx0JcFGEIkT",
        "outputId": "7ea98e9a-3be0-4dff-c0e5-4e38385b9150"
      },
      "execution_count": null,
      "outputs": [
        {
          "output_type": "execute_result",
          "data": {
            "text/plain": [
              "   Name  Age      City\n",
              "0  John   25  New York\n",
              "1  Jane   30    London"
            ],
            "text/html": [
              "\n",
              "  <div id=\"df-e42530e6-b318-4f24-a111-33a89eb40964\">\n",
              "    <div class=\"colab-df-container\">\n",
              "      <div>\n",
              "<style scoped>\n",
              "    .dataframe tbody tr th:only-of-type {\n",
              "        vertical-align: middle;\n",
              "    }\n",
              "\n",
              "    .dataframe tbody tr th {\n",
              "        vertical-align: top;\n",
              "    }\n",
              "\n",
              "    .dataframe thead th {\n",
              "        text-align: right;\n",
              "    }\n",
              "</style>\n",
              "<table border=\"1\" class=\"dataframe\">\n",
              "  <thead>\n",
              "    <tr style=\"text-align: right;\">\n",
              "      <th></th>\n",
              "      <th>Name</th>\n",
              "      <th>Age</th>\n",
              "      <th>City</th>\n",
              "    </tr>\n",
              "  </thead>\n",
              "  <tbody>\n",
              "    <tr>\n",
              "      <th>0</th>\n",
              "      <td>John</td>\n",
              "      <td>25</td>\n",
              "      <td>New York</td>\n",
              "    </tr>\n",
              "    <tr>\n",
              "      <th>1</th>\n",
              "      <td>Jane</td>\n",
              "      <td>30</td>\n",
              "      <td>London</td>\n",
              "    </tr>\n",
              "  </tbody>\n",
              "</table>\n",
              "</div>\n",
              "      <button class=\"colab-df-convert\" onclick=\"convertToInteractive('df-e42530e6-b318-4f24-a111-33a89eb40964')\"\n",
              "              title=\"Convert this dataframe to an interactive table.\"\n",
              "              style=\"display:none;\">\n",
              "        \n",
              "  <svg xmlns=\"http://www.w3.org/2000/svg\" height=\"24px\"viewBox=\"0 0 24 24\"\n",
              "       width=\"24px\">\n",
              "    <path d=\"M0 0h24v24H0V0z\" fill=\"none\"/>\n",
              "    <path d=\"M18.56 5.44l.94 2.06.94-2.06 2.06-.94-2.06-.94-.94-2.06-.94 2.06-2.06.94zm-11 1L8.5 8.5l.94-2.06 2.06-.94-2.06-.94L8.5 2.5l-.94 2.06-2.06.94zm10 10l.94 2.06.94-2.06 2.06-.94-2.06-.94-.94-2.06-.94 2.06-2.06.94z\"/><path d=\"M17.41 7.96l-1.37-1.37c-.4-.4-.92-.59-1.43-.59-.52 0-1.04.2-1.43.59L10.3 9.45l-7.72 7.72c-.78.78-.78 2.05 0 2.83L4 21.41c.39.39.9.59 1.41.59.51 0 1.02-.2 1.41-.59l7.78-7.78 2.81-2.81c.8-.78.8-2.07 0-2.86zM5.41 20L4 18.59l7.72-7.72 1.47 1.35L5.41 20z\"/>\n",
              "  </svg>\n",
              "      </button>\n",
              "      \n",
              "  <style>\n",
              "    .colab-df-container {\n",
              "      display:flex;\n",
              "      flex-wrap:wrap;\n",
              "      gap: 12px;\n",
              "    }\n",
              "\n",
              "    .colab-df-convert {\n",
              "      background-color: #E8F0FE;\n",
              "      border: none;\n",
              "      border-radius: 50%;\n",
              "      cursor: pointer;\n",
              "      display: none;\n",
              "      fill: #1967D2;\n",
              "      height: 32px;\n",
              "      padding: 0 0 0 0;\n",
              "      width: 32px;\n",
              "    }\n",
              "\n",
              "    .colab-df-convert:hover {\n",
              "      background-color: #E2EBFA;\n",
              "      box-shadow: 0px 1px 2px rgba(60, 64, 67, 0.3), 0px 1px 3px 1px rgba(60, 64, 67, 0.15);\n",
              "      fill: #174EA6;\n",
              "    }\n",
              "\n",
              "    [theme=dark] .colab-df-convert {\n",
              "      background-color: #3B4455;\n",
              "      fill: #D2E3FC;\n",
              "    }\n",
              "\n",
              "    [theme=dark] .colab-df-convert:hover {\n",
              "      background-color: #434B5C;\n",
              "      box-shadow: 0px 1px 3px 1px rgba(0, 0, 0, 0.15);\n",
              "      filter: drop-shadow(0px 1px 2px rgba(0, 0, 0, 0.3));\n",
              "      fill: #FFFFFF;\n",
              "    }\n",
              "  </style>\n",
              "\n",
              "      <script>\n",
              "        const buttonEl =\n",
              "          document.querySelector('#df-e42530e6-b318-4f24-a111-33a89eb40964 button.colab-df-convert');\n",
              "        buttonEl.style.display =\n",
              "          google.colab.kernel.accessAllowed ? 'block' : 'none';\n",
              "\n",
              "        async function convertToInteractive(key) {\n",
              "          const element = document.querySelector('#df-e42530e6-b318-4f24-a111-33a89eb40964');\n",
              "          const dataTable =\n",
              "            await google.colab.kernel.invokeFunction('convertToInteractive',\n",
              "                                                     [key], {});\n",
              "          if (!dataTable) return;\n",
              "\n",
              "          const docLinkHtml = 'Like what you see? Visit the ' +\n",
              "            '<a target=\"_blank\" href=https://colab.research.google.com/notebooks/data_table.ipynb>data table notebook</a>'\n",
              "            + ' to learn more about interactive tables.';\n",
              "          element.innerHTML = '';\n",
              "          dataTable['output_type'] = 'display_data';\n",
              "          await google.colab.output.renderOutput(dataTable, element);\n",
              "          const docLink = document.createElement('div');\n",
              "          docLink.innerHTML = docLinkHtml;\n",
              "          element.appendChild(docLink);\n",
              "        }\n",
              "      </script>\n",
              "    </div>\n",
              "  </div>\n",
              "  "
            ]
          },
          "metadata": {},
          "execution_count": 21
        }
      ]
    },
    {
      "cell_type": "code",
      "source": [
        "new_row = {'Name': 'Emily', 'Age': 28, 'City': 'Sydney'}\n",
        "df = df.append(new_row, ignore_index=True)\n",
        "df"
      ],
      "metadata": {
        "colab": {
          "base_uri": "https://localhost:8080/",
          "height": 231
        },
        "id": "5kbQfUOcEIoE",
        "outputId": "a03ba2c3-58b4-4a13-d0cc-af3320d34d24"
      },
      "execution_count": null,
      "outputs": [
        {
          "output_type": "stream",
          "name": "stderr",
          "text": [
            "<ipython-input-22-0938a9ef1b80>:7: FutureWarning: The frame.append method is deprecated and will be removed from pandas in a future version. Use pandas.concat instead.\n",
            "  df = df.append(new_row, ignore_index=True)\n"
          ]
        },
        {
          "output_type": "execute_result",
          "data": {
            "text/plain": [
              "    Name  Age      City\n",
              "0   John   25  New York\n",
              "1   Jane   30    London\n",
              "2   Mike   35     Paris\n",
              "3  Emily   28    Sydney"
            ],
            "text/html": [
              "\n",
              "  <div id=\"df-80078bda-f3b3-4472-a348-01ae7919f3d2\">\n",
              "    <div class=\"colab-df-container\">\n",
              "      <div>\n",
              "<style scoped>\n",
              "    .dataframe tbody tr th:only-of-type {\n",
              "        vertical-align: middle;\n",
              "    }\n",
              "\n",
              "    .dataframe tbody tr th {\n",
              "        vertical-align: top;\n",
              "    }\n",
              "\n",
              "    .dataframe thead th {\n",
              "        text-align: right;\n",
              "    }\n",
              "</style>\n",
              "<table border=\"1\" class=\"dataframe\">\n",
              "  <thead>\n",
              "    <tr style=\"text-align: right;\">\n",
              "      <th></th>\n",
              "      <th>Name</th>\n",
              "      <th>Age</th>\n",
              "      <th>City</th>\n",
              "    </tr>\n",
              "  </thead>\n",
              "  <tbody>\n",
              "    <tr>\n",
              "      <th>0</th>\n",
              "      <td>John</td>\n",
              "      <td>25</td>\n",
              "      <td>New York</td>\n",
              "    </tr>\n",
              "    <tr>\n",
              "      <th>1</th>\n",
              "      <td>Jane</td>\n",
              "      <td>30</td>\n",
              "      <td>London</td>\n",
              "    </tr>\n",
              "    <tr>\n",
              "      <th>2</th>\n",
              "      <td>Mike</td>\n",
              "      <td>35</td>\n",
              "      <td>Paris</td>\n",
              "    </tr>\n",
              "    <tr>\n",
              "      <th>3</th>\n",
              "      <td>Emily</td>\n",
              "      <td>28</td>\n",
              "      <td>Sydney</td>\n",
              "    </tr>\n",
              "  </tbody>\n",
              "</table>\n",
              "</div>\n",
              "      <button class=\"colab-df-convert\" onclick=\"convertToInteractive('df-80078bda-f3b3-4472-a348-01ae7919f3d2')\"\n",
              "              title=\"Convert this dataframe to an interactive table.\"\n",
              "              style=\"display:none;\">\n",
              "        \n",
              "  <svg xmlns=\"http://www.w3.org/2000/svg\" height=\"24px\"viewBox=\"0 0 24 24\"\n",
              "       width=\"24px\">\n",
              "    <path d=\"M0 0h24v24H0V0z\" fill=\"none\"/>\n",
              "    <path d=\"M18.56 5.44l.94 2.06.94-2.06 2.06-.94-2.06-.94-.94-2.06-.94 2.06-2.06.94zm-11 1L8.5 8.5l.94-2.06 2.06-.94-2.06-.94L8.5 2.5l-.94 2.06-2.06.94zm10 10l.94 2.06.94-2.06 2.06-.94-2.06-.94-.94-2.06-.94 2.06-2.06.94z\"/><path d=\"M17.41 7.96l-1.37-1.37c-.4-.4-.92-.59-1.43-.59-.52 0-1.04.2-1.43.59L10.3 9.45l-7.72 7.72c-.78.78-.78 2.05 0 2.83L4 21.41c.39.39.9.59 1.41.59.51 0 1.02-.2 1.41-.59l7.78-7.78 2.81-2.81c.8-.78.8-2.07 0-2.86zM5.41 20L4 18.59l7.72-7.72 1.47 1.35L5.41 20z\"/>\n",
              "  </svg>\n",
              "      </button>\n",
              "      \n",
              "  <style>\n",
              "    .colab-df-container {\n",
              "      display:flex;\n",
              "      flex-wrap:wrap;\n",
              "      gap: 12px;\n",
              "    }\n",
              "\n",
              "    .colab-df-convert {\n",
              "      background-color: #E8F0FE;\n",
              "      border: none;\n",
              "      border-radius: 50%;\n",
              "      cursor: pointer;\n",
              "      display: none;\n",
              "      fill: #1967D2;\n",
              "      height: 32px;\n",
              "      padding: 0 0 0 0;\n",
              "      width: 32px;\n",
              "    }\n",
              "\n",
              "    .colab-df-convert:hover {\n",
              "      background-color: #E2EBFA;\n",
              "      box-shadow: 0px 1px 2px rgba(60, 64, 67, 0.3), 0px 1px 3px 1px rgba(60, 64, 67, 0.15);\n",
              "      fill: #174EA6;\n",
              "    }\n",
              "\n",
              "    [theme=dark] .colab-df-convert {\n",
              "      background-color: #3B4455;\n",
              "      fill: #D2E3FC;\n",
              "    }\n",
              "\n",
              "    [theme=dark] .colab-df-convert:hover {\n",
              "      background-color: #434B5C;\n",
              "      box-shadow: 0px 1px 3px 1px rgba(0, 0, 0, 0.15);\n",
              "      filter: drop-shadow(0px 1px 2px rgba(0, 0, 0, 0.3));\n",
              "      fill: #FFFFFF;\n",
              "    }\n",
              "  </style>\n",
              "\n",
              "      <script>\n",
              "        const buttonEl =\n",
              "          document.querySelector('#df-80078bda-f3b3-4472-a348-01ae7919f3d2 button.colab-df-convert');\n",
              "        buttonEl.style.display =\n",
              "          google.colab.kernel.accessAllowed ? 'block' : 'none';\n",
              "\n",
              "        async function convertToInteractive(key) {\n",
              "          const element = document.querySelector('#df-80078bda-f3b3-4472-a348-01ae7919f3d2');\n",
              "          const dataTable =\n",
              "            await google.colab.kernel.invokeFunction('convertToInteractive',\n",
              "                                                     [key], {});\n",
              "          if (!dataTable) return;\n",
              "\n",
              "          const docLinkHtml = 'Like what you see? Visit the ' +\n",
              "            '<a target=\"_blank\" href=https://colab.research.google.com/notebooks/data_table.ipynb>data table notebook</a>'\n",
              "            + ' to learn more about interactive tables.';\n",
              "          element.innerHTML = '';\n",
              "          dataTable['output_type'] = 'display_data';\n",
              "          await google.colab.output.renderOutput(dataTable, element);\n",
              "          const docLink = document.createElement('div');\n",
              "          docLink.innerHTML = docLinkHtml;\n",
              "          element.appendChild(docLink);\n",
              "        }\n",
              "      </script>\n",
              "    </div>\n",
              "  </div>\n",
              "  "
            ]
          },
          "metadata": {},
          "execution_count": 22
        }
      ]
    },
    {
      "cell_type": "code",
      "source": [
        "rows_list = df.values.tolist()\n",
        "rows_list"
      ],
      "metadata": {
        "colab": {
          "base_uri": "https://localhost:8080/"
        },
        "id": "kyLsGj86EIqz",
        "outputId": "f9aec55e-96a0-4742-87e0-b803bb3bed9c"
      },
      "execution_count": null,
      "outputs": [
        {
          "output_type": "execute_result",
          "data": {
            "text/plain": [
              "[['John', 25, 'New York'],\n",
              " ['Jane', 30, 'London'],\n",
              " ['Mike', 35, 'Paris'],\n",
              " ['Emily', 28, 'Sydney']]"
            ]
          },
          "metadata": {},
          "execution_count": 23
        }
      ]
    },
    {
      "cell_type": "code",
      "source": [
        "# Rank rows based on the 'Age' column\n",
        "df['Rank'] = df['Age'].rank(method='min')\n",
        "print(df)"
      ],
      "metadata": {
        "colab": {
          "base_uri": "https://localhost:8080/"
        },
        "id": "8lDOIN9cEIuU",
        "outputId": "f192f1de-bb86-4c91-8fc1-7df21f9e9a42"
      },
      "execution_count": null,
      "outputs": [
        {
          "output_type": "stream",
          "name": "stdout",
          "text": [
            "   Name  Age      City  Rank\n",
            "0  John   25  New York   1.0\n",
            "1  Jane   30    London   2.0\n",
            "2  Mike   35     Paris   3.0\n"
          ]
        }
      ]
    },
    {
      "cell_type": "code",
      "source": [
        "# Sort rows based on the 'Age' column\n",
        "sorted_df = df.sort_values('Age')\n",
        "print(sorted_df)"
      ],
      "metadata": {
        "colab": {
          "base_uri": "https://localhost:8080/"
        },
        "id": "72cJO4uQGTr4",
        "outputId": "fb0b7950-ac67-4ceb-8c42-97178db71271"
      },
      "execution_count": null,
      "outputs": [
        {
          "output_type": "stream",
          "name": "stdout",
          "text": [
            "   Name  Age      City  Rank\n",
            "0  John   25  New York   1.0\n",
            "1  Jane   30    London   2.0\n",
            "2  Mike   35     Paris   3.0\n"
          ]
        }
      ]
    },
    {
      "cell_type": "code",
      "source": [
        "# Select rows with the maximum and minimum 'Age' values\n",
        "max_age_row = df.loc[df['Age'].idxmax()]\n",
        "min_age_row = df.loc[df['Age'].idxmin()]\n",
        "max_age_row, min_age_row"
      ],
      "metadata": {
        "colab": {
          "base_uri": "https://localhost:8080/"
        },
        "id": "NeJWqhqwGTxc",
        "outputId": "0967565f-6a1b-4a98-e0f9-d0921b986b5d"
      },
      "execution_count": null,
      "outputs": [
        {
          "output_type": "execute_result",
          "data": {
            "text/plain": [
              "(Name     Mike\n",
              " Age        35\n",
              " City    Paris\n",
              " Rank      3.0\n",
              " Name: 2, dtype: object,\n",
              " Name        John\n",
              " Age           25\n",
              " City    New York\n",
              " Rank         1.0\n",
              " Name: 0, dtype: object)"
            ]
          },
          "metadata": {},
          "execution_count": 28
        }
      ]
    },
    {
      "cell_type": "code",
      "source": [
        "substring = 'M'\n",
        "filtered_df = df[df['Name'].str.contains(substring)]\n",
        "filtered_df"
      ],
      "metadata": {
        "colab": {
          "base_uri": "https://localhost:8080/",
          "height": 81
        },
        "id": "SZaQq5SvGTzf",
        "outputId": "4b9cd76c-47f4-4a0c-8995-515b4bc50eef"
      },
      "execution_count": null,
      "outputs": [
        {
          "output_type": "execute_result",
          "data": {
            "text/plain": [
              "   Name  Age   City  Rank\n",
              "2  Mike   35  Paris   3.0"
            ],
            "text/html": [
              "\n",
              "  <div id=\"df-90dabbfa-c1c4-4e9c-ac91-8cb7e1700c7f\">\n",
              "    <div class=\"colab-df-container\">\n",
              "      <div>\n",
              "<style scoped>\n",
              "    .dataframe tbody tr th:only-of-type {\n",
              "        vertical-align: middle;\n",
              "    }\n",
              "\n",
              "    .dataframe tbody tr th {\n",
              "        vertical-align: top;\n",
              "    }\n",
              "\n",
              "    .dataframe thead th {\n",
              "        text-align: right;\n",
              "    }\n",
              "</style>\n",
              "<table border=\"1\" class=\"dataframe\">\n",
              "  <thead>\n",
              "    <tr style=\"text-align: right;\">\n",
              "      <th></th>\n",
              "      <th>Name</th>\n",
              "      <th>Age</th>\n",
              "      <th>City</th>\n",
              "      <th>Rank</th>\n",
              "    </tr>\n",
              "  </thead>\n",
              "  <tbody>\n",
              "    <tr>\n",
              "      <th>2</th>\n",
              "      <td>Mike</td>\n",
              "      <td>35</td>\n",
              "      <td>Paris</td>\n",
              "      <td>3.0</td>\n",
              "    </tr>\n",
              "  </tbody>\n",
              "</table>\n",
              "</div>\n",
              "      <button class=\"colab-df-convert\" onclick=\"convertToInteractive('df-90dabbfa-c1c4-4e9c-ac91-8cb7e1700c7f')\"\n",
              "              title=\"Convert this dataframe to an interactive table.\"\n",
              "              style=\"display:none;\">\n",
              "        \n",
              "  <svg xmlns=\"http://www.w3.org/2000/svg\" height=\"24px\"viewBox=\"0 0 24 24\"\n",
              "       width=\"24px\">\n",
              "    <path d=\"M0 0h24v24H0V0z\" fill=\"none\"/>\n",
              "    <path d=\"M18.56 5.44l.94 2.06.94-2.06 2.06-.94-2.06-.94-.94-2.06-.94 2.06-2.06.94zm-11 1L8.5 8.5l.94-2.06 2.06-.94-2.06-.94L8.5 2.5l-.94 2.06-2.06.94zm10 10l.94 2.06.94-2.06 2.06-.94-2.06-.94-.94-2.06-.94 2.06-2.06.94z\"/><path d=\"M17.41 7.96l-1.37-1.37c-.4-.4-.92-.59-1.43-.59-.52 0-1.04.2-1.43.59L10.3 9.45l-7.72 7.72c-.78.78-.78 2.05 0 2.83L4 21.41c.39.39.9.59 1.41.59.51 0 1.02-.2 1.41-.59l7.78-7.78 2.81-2.81c.8-.78.8-2.07 0-2.86zM5.41 20L4 18.59l7.72-7.72 1.47 1.35L5.41 20z\"/>\n",
              "  </svg>\n",
              "      </button>\n",
              "      \n",
              "  <style>\n",
              "    .colab-df-container {\n",
              "      display:flex;\n",
              "      flex-wrap:wrap;\n",
              "      gap: 12px;\n",
              "    }\n",
              "\n",
              "    .colab-df-convert {\n",
              "      background-color: #E8F0FE;\n",
              "      border: none;\n",
              "      border-radius: 50%;\n",
              "      cursor: pointer;\n",
              "      display: none;\n",
              "      fill: #1967D2;\n",
              "      height: 32px;\n",
              "      padding: 0 0 0 0;\n",
              "      width: 32px;\n",
              "    }\n",
              "\n",
              "    .colab-df-convert:hover {\n",
              "      background-color: #E2EBFA;\n",
              "      box-shadow: 0px 1px 2px rgba(60, 64, 67, 0.3), 0px 1px 3px 1px rgba(60, 64, 67, 0.15);\n",
              "      fill: #174EA6;\n",
              "    }\n",
              "\n",
              "    [theme=dark] .colab-df-convert {\n",
              "      background-color: #3B4455;\n",
              "      fill: #D2E3FC;\n",
              "    }\n",
              "\n",
              "    [theme=dark] .colab-df-convert:hover {\n",
              "      background-color: #434B5C;\n",
              "      box-shadow: 0px 1px 3px 1px rgba(0, 0, 0, 0.15);\n",
              "      filter: drop-shadow(0px 1px 2px rgba(0, 0, 0, 0.3));\n",
              "      fill: #FFFFFF;\n",
              "    }\n",
              "  </style>\n",
              "\n",
              "      <script>\n",
              "        const buttonEl =\n",
              "          document.querySelector('#df-90dabbfa-c1c4-4e9c-ac91-8cb7e1700c7f button.colab-df-convert');\n",
              "        buttonEl.style.display =\n",
              "          google.colab.kernel.accessAllowed ? 'block' : 'none';\n",
              "\n",
              "        async function convertToInteractive(key) {\n",
              "          const element = document.querySelector('#df-90dabbfa-c1c4-4e9c-ac91-8cb7e1700c7f');\n",
              "          const dataTable =\n",
              "            await google.colab.kernel.invokeFunction('convertToInteractive',\n",
              "                                                     [key], {});\n",
              "          if (!dataTable) return;\n",
              "\n",
              "          const docLinkHtml = 'Like what you see? Visit the ' +\n",
              "            '<a target=\"_blank\" href=https://colab.research.google.com/notebooks/data_table.ipynb>data table notebook</a>'\n",
              "            + ' to learn more about interactive tables.';\n",
              "          element.innerHTML = '';\n",
              "          dataTable['output_type'] = 'display_data';\n",
              "          await google.colab.output.renderOutput(dataTable, element);\n",
              "          const docLink = document.createElement('div');\n",
              "          docLink.innerHTML = docLinkHtml;\n",
              "          element.appendChild(docLink);\n",
              "        }\n",
              "      </script>\n",
              "    </div>\n",
              "  </div>\n",
              "  "
            ]
          },
          "metadata": {},
          "execution_count": 30
        }
      ]
    },
    {
      "cell_type": "code",
      "source": [
        "df.set_index('Name', inplace = True)"
      ],
      "metadata": {
        "id": "vLN4wUA-GT3J"
      },
      "execution_count": null,
      "outputs": []
    },
    {
      "cell_type": "code",
      "source": [
        "random_rows = df.sample(n=2)\n",
        "random_rows"
      ],
      "metadata": {
        "colab": {
          "base_uri": "https://localhost:8080/",
          "height": 143
        },
        "id": "1fUFEHUMGT54",
        "outputId": "5c18a1a3-3f8e-4d30-e96a-2ca5d64423ca"
      },
      "execution_count": null,
      "outputs": [
        {
          "output_type": "execute_result",
          "data": {
            "text/plain": [
              "      Age    City\n",
              "Name             \n",
              "Mike   35   Paris\n",
              "Jane   30  London"
            ],
            "text/html": [
              "\n",
              "  <div id=\"df-0a440458-37b3-46a8-b135-304799b9c2f3\">\n",
              "    <div class=\"colab-df-container\">\n",
              "      <div>\n",
              "<style scoped>\n",
              "    .dataframe tbody tr th:only-of-type {\n",
              "        vertical-align: middle;\n",
              "    }\n",
              "\n",
              "    .dataframe tbody tr th {\n",
              "        vertical-align: top;\n",
              "    }\n",
              "\n",
              "    .dataframe thead th {\n",
              "        text-align: right;\n",
              "    }\n",
              "</style>\n",
              "<table border=\"1\" class=\"dataframe\">\n",
              "  <thead>\n",
              "    <tr style=\"text-align: right;\">\n",
              "      <th></th>\n",
              "      <th>Age</th>\n",
              "      <th>City</th>\n",
              "    </tr>\n",
              "    <tr>\n",
              "      <th>Name</th>\n",
              "      <th></th>\n",
              "      <th></th>\n",
              "    </tr>\n",
              "  </thead>\n",
              "  <tbody>\n",
              "    <tr>\n",
              "      <th>Mike</th>\n",
              "      <td>35</td>\n",
              "      <td>Paris</td>\n",
              "    </tr>\n",
              "    <tr>\n",
              "      <th>Jane</th>\n",
              "      <td>30</td>\n",
              "      <td>London</td>\n",
              "    </tr>\n",
              "  </tbody>\n",
              "</table>\n",
              "</div>\n",
              "      <button class=\"colab-df-convert\" onclick=\"convertToInteractive('df-0a440458-37b3-46a8-b135-304799b9c2f3')\"\n",
              "              title=\"Convert this dataframe to an interactive table.\"\n",
              "              style=\"display:none;\">\n",
              "        \n",
              "  <svg xmlns=\"http://www.w3.org/2000/svg\" height=\"24px\"viewBox=\"0 0 24 24\"\n",
              "       width=\"24px\">\n",
              "    <path d=\"M0 0h24v24H0V0z\" fill=\"none\"/>\n",
              "    <path d=\"M18.56 5.44l.94 2.06.94-2.06 2.06-.94-2.06-.94-.94-2.06-.94 2.06-2.06.94zm-11 1L8.5 8.5l.94-2.06 2.06-.94-2.06-.94L8.5 2.5l-.94 2.06-2.06.94zm10 10l.94 2.06.94-2.06 2.06-.94-2.06-.94-.94-2.06-.94 2.06-2.06.94z\"/><path d=\"M17.41 7.96l-1.37-1.37c-.4-.4-.92-.59-1.43-.59-.52 0-1.04.2-1.43.59L10.3 9.45l-7.72 7.72c-.78.78-.78 2.05 0 2.83L4 21.41c.39.39.9.59 1.41.59.51 0 1.02-.2 1.41-.59l7.78-7.78 2.81-2.81c.8-.78.8-2.07 0-2.86zM5.41 20L4 18.59l7.72-7.72 1.47 1.35L5.41 20z\"/>\n",
              "  </svg>\n",
              "      </button>\n",
              "      \n",
              "  <style>\n",
              "    .colab-df-container {\n",
              "      display:flex;\n",
              "      flex-wrap:wrap;\n",
              "      gap: 12px;\n",
              "    }\n",
              "\n",
              "    .colab-df-convert {\n",
              "      background-color: #E8F0FE;\n",
              "      border: none;\n",
              "      border-radius: 50%;\n",
              "      cursor: pointer;\n",
              "      display: none;\n",
              "      fill: #1967D2;\n",
              "      height: 32px;\n",
              "      padding: 0 0 0 0;\n",
              "      width: 32px;\n",
              "    }\n",
              "\n",
              "    .colab-df-convert:hover {\n",
              "      background-color: #E2EBFA;\n",
              "      box-shadow: 0px 1px 2px rgba(60, 64, 67, 0.3), 0px 1px 3px 1px rgba(60, 64, 67, 0.15);\n",
              "      fill: #174EA6;\n",
              "    }\n",
              "\n",
              "    [theme=dark] .colab-df-convert {\n",
              "      background-color: #3B4455;\n",
              "      fill: #D2E3FC;\n",
              "    }\n",
              "\n",
              "    [theme=dark] .colab-df-convert:hover {\n",
              "      background-color: #434B5C;\n",
              "      box-shadow: 0px 1px 3px 1px rgba(0, 0, 0, 0.15);\n",
              "      filter: drop-shadow(0px 1px 2px rgba(0, 0, 0, 0.3));\n",
              "      fill: #FFFFFF;\n",
              "    }\n",
              "  </style>\n",
              "\n",
              "      <script>\n",
              "        const buttonEl =\n",
              "          document.querySelector('#df-0a440458-37b3-46a8-b135-304799b9c2f3 button.colab-df-convert');\n",
              "        buttonEl.style.display =\n",
              "          google.colab.kernel.accessAllowed ? 'block' : 'none';\n",
              "\n",
              "        async function convertToInteractive(key) {\n",
              "          const element = document.querySelector('#df-0a440458-37b3-46a8-b135-304799b9c2f3');\n",
              "          const dataTable =\n",
              "            await google.colab.kernel.invokeFunction('convertToInteractive',\n",
              "                                                     [key], {});\n",
              "          if (!dataTable) return;\n",
              "\n",
              "          const docLinkHtml = 'Like what you see? Visit the ' +\n",
              "            '<a target=\"_blank\" href=https://colab.research.google.com/notebooks/data_table.ipynb>data table notebook</a>'\n",
              "            + ' to learn more about interactive tables.';\n",
              "          element.innerHTML = '';\n",
              "          dataTable['output_type'] = 'display_data';\n",
              "          await google.colab.output.renderOutput(dataTable, element);\n",
              "          const docLink = document.createElement('div');\n",
              "          docLink.innerHTML = docLinkHtml;\n",
              "          element.appendChild(docLink);\n",
              "        }\n",
              "      </script>\n",
              "    </div>\n",
              "  </div>\n",
              "  "
            ]
          },
          "metadata": {},
          "execution_count": 35
        }
      ]
    },
    {
      "cell_type": "code",
      "source": [
        "import pandas as pd\n",
        "import numpy as np"
      ],
      "metadata": {
        "id": "ZJl2IcbxGT87"
      },
      "execution_count": null,
      "outputs": []
    },
    {
      "cell_type": "code",
      "source": [
        "df = pd.DataFrame()\n",
        "values = [1, 2, 3, 4, 5]\n",
        "for i in range(len(values)):\n",
        "    column_name = f'Column{i+1}'\n",
        "    df[column_name] = values[i]\n",
        "print(df)"
      ],
      "metadata": {
        "id": "ECS0VtCEGT_d"
      },
      "execution_count": null,
      "outputs": []
    },
    {
      "cell_type": "code",
      "source": [
        "#col_names\n",
        "df.columns"
      ],
      "metadata": {
        "id": "960TJ5qEC3x-"
      },
      "execution_count": null,
      "outputs": []
    },
    {
      "cell_type": "code",
      "source": [
        "#rename\n",
        "df = df.rename(columns = {'Column1': 'A'})\n",
        "df.columns"
      ],
      "metadata": {
        "id": "F3nzmEWPC30b"
      },
      "execution_count": null,
      "outputs": []
    },
    {
      "cell_type": "code",
      "source": [
        "import seaborn as sns\n",
        "penguin = sns.load_dataset('penguins')"
      ],
      "metadata": {
        "id": "4aJNzeEbC33N"
      },
      "execution_count": null,
      "outputs": []
    },
    {
      "cell_type": "code",
      "source": [
        "#unique values\n",
        "uniq_island = penguin['island'].unique()\n",
        "uniq_island"
      ],
      "metadata": {
        "id": "qOXSonKFC35n"
      },
      "execution_count": null,
      "outputs": []
    },
    {
      "cell_type": "code",
      "source": [
        "#index numbeer\n",
        "bill_depth = penguin['bill_depth_mm']\n",
        "for i in range(len(bill_depth)):\n",
        "  if bill_depth[i] == 18:\n",
        "    print(i)"
      ],
      "metadata": {
        "id": "XsAH59dVC39V"
      },
      "execution_count": null,
      "outputs": []
    },
    {
      "cell_type": "code",
      "source": [
        "#new_column\n",
        "df = pd.DataFrame({'A': [1, 2, 3, 4, 5]})\n",
        "\n",
        "df['B'] = df['A'] * 2"
      ],
      "metadata": {
        "id": "CbIx9oa6C3_r"
      },
      "execution_count": null,
      "outputs": []
    },
    {
      "cell_type": "code",
      "source": [
        "df['C'] = [0 if x > 3 else 1 for x in df['A']]"
      ],
      "metadata": {
        "id": "ZyaDXNSPC4DX"
      },
      "execution_count": null,
      "outputs": []
    },
    {
      "cell_type": "code",
      "source": [
        "#frequency\n",
        "penguin['island'].value_counts()"
      ],
      "metadata": {
        "id": "4y0uajjQC4Fv"
      },
      "execution_count": null,
      "outputs": []
    },
    {
      "cell_type": "code",
      "source": [
        "#split\n",
        "df = pd.DataFrame({'Text': ['Hello World', 'OpenAI Model', 'Data Science']})\n",
        "\n",
        "df[['Column1', 'Column2']] = df['Text'].str.split(' ', 1, expand=True)\n",
        "\n",
        "print(df)"
      ],
      "metadata": {
        "id": "zGmDt7JAC4JU"
      },
      "execution_count": null,
      "outputs": []
    },
    {
      "cell_type": "code",
      "source": [
        "#index numbeer of min and max\n",
        "\n",
        "for i in range(len(bill_depth)):\n",
        "  if bill_depth[i] == bill_depth.min():\n",
        "    print(i)"
      ],
      "metadata": {
        "id": "Pe1klKNV6lHE"
      },
      "execution_count": null,
      "outputs": []
    },
    {
      "cell_type": "code",
      "source": [
        "for i in range(len(bill_depth)):\n",
        "  if bill_depth[i] == bill_depth.max():\n",
        "    print(i)"
      ],
      "metadata": {
        "id": "swtqj8re6lJr"
      },
      "execution_count": null,
      "outputs": []
    },
    {
      "cell_type": "code",
      "source": [
        "penguin['bill_depth_mm'] - penguin['bill_length_mm']"
      ],
      "metadata": {
        "id": "FxGUzupX6lMt"
      },
      "execution_count": null,
      "outputs": []
    },
    {
      "cell_type": "code",
      "source": [
        "#drop columns\n",
        "df.drop[['Column1', 'Column2']]"
      ],
      "metadata": {
        "id": "UtjRB8tH6lPI"
      },
      "execution_count": null,
      "outputs": []
    },
    {
      "cell_type": "code",
      "source": [
        "my_array = np.array([[1, 2, 3], [4, 5, 6], [7, 8, 9]])\n",
        "\n",
        "df = pd.DataFrame(my_array)"
      ],
      "metadata": {
        "id": "uQvP4qwb6lSA"
      },
      "execution_count": null,
      "outputs": []
    },
    {
      "cell_type": "code",
      "source": [
        "dict = {\n",
        "    'Name': ['John', 'Emma', 'Peter', 'Olivia'],\n",
        "    'Age': [25, 28, 30, 27],\n",
        "    'City': ['New York', 'London', 'Paris', 'Sydney']\n",
        "}\n",
        "df = pd.DataFrame(dict)"
      ],
      "metadata": {
        "id": "mdzjm4T16lUX"
      },
      "execution_count": null,
      "outputs": []
    },
    {
      "cell_type": "code",
      "source": [
        "names = ['John', 'Emma', 'Peter', 'Olivia']\n",
        "ages = [25, 28, 30, 27]\n",
        "cities = ['New York', 'London', 'Paris', 'Sydney']\n",
        "df = pd.DataFrame({'Name': names, 'Age': ages, 'City': cities})"
      ],
      "metadata": {
        "id": "zZbWdyFu6lXf"
      },
      "execution_count": null,
      "outputs": []
    },
    {
      "cell_type": "code",
      "source": [
        "import numpy as np\n",
        "data = np.random.rand(3, 3)\n",
        "\n",
        "column_names = ['Column1', 'Column2', 'Column3']\n",
        "df = pd.DataFrame(data, columns=column_names)\n",
        "df"
      ],
      "metadata": {
        "id": "9MvDH_iO6xcG"
      },
      "execution_count": null,
      "outputs": []
    },
    {
      "cell_type": "code",
      "source": [
        "#access element\n",
        "df['Column1'][0]"
      ],
      "metadata": {
        "id": "xOp2G-R-6xe5"
      },
      "execution_count": null,
      "outputs": []
    },
    {
      "cell_type": "code",
      "source": [
        "#data time format\n",
        "df = pd.DataFrame({'Date': ['2022-01-01', '2022-02-01', '2022-03-01']})\n",
        "df['Date'] = pd.to_datetime(df['Date'])\n",
        "df"
      ],
      "metadata": {
        "id": "0oTfQkAw6xiH"
      },
      "execution_count": null,
      "outputs": []
    },
    {
      "cell_type": "code",
      "source": [],
      "metadata": {
        "id": "gIuILArh6xlD"
      },
      "execution_count": null,
      "outputs": []
    },
    {
      "cell_type": "code",
      "source": [],
      "metadata": {
        "id": "Dlb_79Vu6xo6"
      },
      "execution_count": null,
      "outputs": []
    },
    {
      "cell_type": "code",
      "source": [],
      "metadata": {
        "id": "o4vIZuQX6laX"
      },
      "execution_count": null,
      "outputs": []
    }
  ]
}